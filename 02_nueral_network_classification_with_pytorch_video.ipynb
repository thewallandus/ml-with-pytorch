{
  "nbformat": 4,
  "nbformat_minor": 0,
  "metadata": {
    "colab": {
      "provenance": [],
      "gpuType": "T4",
      "authorship_tag": "ABX9TyNjUkEqnTKEph9n1Wt5o67I",
      "include_colab_link": true
    },
    "kernelspec": {
      "name": "python3",
      "display_name": "Python 3"
    },
    "language_info": {
      "name": "python"
    },
    "accelerator": "GPU"
  },
  "cells": [
    {
      "cell_type": "markdown",
      "metadata": {
        "id": "view-in-github",
        "colab_type": "text"
      },
      "source": [
        "<a href=\"https://colab.research.google.com/github/thewallandus/ml-with-pytorch/blob/main/02_nueral_network_classification_with_pytorch_video.ipynb\" target=\"_parent\"><img src=\"https://colab.research.google.com/assets/colab-badge.svg\" alt=\"Open In Colab\"/></a>"
      ]
    },
    {
      "cell_type": "markdown",
      "source": [
        "# Nueral Network Classification with Pytorch\n",
        "\n",
        "Classification is predicting if something is one thing or another."
      ],
      "metadata": {
        "id": "VAgXquSxC3Kq"
      }
    },
    {
      "cell_type": "markdown",
      "source": [
        "##1. Make some data"
      ],
      "metadata": {
        "id": "2t2Z8ZkwDdYs"
      }
    },
    {
      "cell_type": "code",
      "source": [
        "import sklearn"
      ],
      "metadata": {
        "id": "kKqat04WFKRk"
      },
      "execution_count": null,
      "outputs": []
    },
    {
      "cell_type": "code",
      "source": [
        "from sklearn.datasets import make_circles\n",
        "\n",
        "# Make 1000 samples\n",
        "n_samples = 1000\n",
        "\n",
        "# Create Circles\n",
        "X, y = make_circles(n_samples,\n",
        "                    # noise is for randomness\n",
        "                    noise=0.03,\n",
        "                    # random state is like the random seed\n",
        "                    random_state=42\n",
        "                    )"
      ],
      "metadata": {
        "id": "ZTfKxMeFFX3H"
      },
      "execution_count": null,
      "outputs": []
    },
    {
      "cell_type": "code",
      "source": [
        "len(X), len(y)"
      ],
      "metadata": {
        "colab": {
          "base_uri": "https://localhost:8080/"
        },
        "id": "04QWKua2FKVj",
        "outputId": "09df2e19-9c90-4179-9667-98046d10511b"
      },
      "execution_count": null,
      "outputs": [
        {
          "output_type": "execute_result",
          "data": {
            "text/plain": [
              "(1000, 1000)"
            ]
          },
          "metadata": {},
          "execution_count": 3
        }
      ]
    },
    {
      "cell_type": "code",
      "source": [
        "print(f\"First 5 samples of X\\n: {X[:5]}\")\n",
        "print(f\"First 5 samples of y\\n: {y[:5]}\")"
      ],
      "metadata": {
        "colab": {
          "base_uri": "https://localhost:8080/"
        },
        "id": "87uv4NjZDdi1",
        "outputId": "f79eafff-7175-4cef-d2f8-ba21a01cd2a3"
      },
      "execution_count": null,
      "outputs": [
        {
          "output_type": "stream",
          "name": "stdout",
          "text": [
            "First 5 samples of X\n",
            ": [[ 0.75424625  0.23148074]\n",
            " [-0.75615888  0.15325888]\n",
            " [-0.81539193  0.17328203]\n",
            " [-0.39373073  0.69288277]\n",
            " [ 0.44220765 -0.89672343]]\n",
            "First 5 samples of y\n",
            ": [1 1 1 1 0]\n"
          ]
        }
      ]
    },
    {
      "cell_type": "code",
      "source": [
        "# Make DataFrame of circle data\n",
        "import pandas as pd\n",
        "\n",
        "circles = pd.DataFrame({\"X1\" : X[:, 0],\n",
        "                        \"X2\": X[:, 1],\n",
        "                        \"label\": y\n",
        "                        })\n",
        "\n",
        "circles.head(10)"
      ],
      "metadata": {
        "colab": {
          "base_uri": "https://localhost:8080/",
          "height": 363
        },
        "id": "4oiaPCtFGgFH",
        "outputId": "c7b7b159-618f-4cbf-9985-80fd05cd7d22"
      },
      "execution_count": null,
      "outputs": [
        {
          "output_type": "execute_result",
          "data": {
            "text/plain": [
              "         X1        X2  label\n",
              "0  0.754246  0.231481      1\n",
              "1 -0.756159  0.153259      1\n",
              "2 -0.815392  0.173282      1\n",
              "3 -0.393731  0.692883      1\n",
              "4  0.442208 -0.896723      0\n",
              "5 -0.479646  0.676435      1\n",
              "6 -0.013648  0.803349      1\n",
              "7  0.771513  0.147760      1\n",
              "8 -0.169322 -0.793456      1\n",
              "9 -0.121486  1.021509      0"
            ],
            "text/html": [
              "\n",
              "  <div id=\"df-6948c5ac-9578-4018-80fe-5d5b18bf6367\" class=\"colab-df-container\">\n",
              "    <div>\n",
              "<style scoped>\n",
              "    .dataframe tbody tr th:only-of-type {\n",
              "        vertical-align: middle;\n",
              "    }\n",
              "\n",
              "    .dataframe tbody tr th {\n",
              "        vertical-align: top;\n",
              "    }\n",
              "\n",
              "    .dataframe thead th {\n",
              "        text-align: right;\n",
              "    }\n",
              "</style>\n",
              "<table border=\"1\" class=\"dataframe\">\n",
              "  <thead>\n",
              "    <tr style=\"text-align: right;\">\n",
              "      <th></th>\n",
              "      <th>X1</th>\n",
              "      <th>X2</th>\n",
              "      <th>label</th>\n",
              "    </tr>\n",
              "  </thead>\n",
              "  <tbody>\n",
              "    <tr>\n",
              "      <th>0</th>\n",
              "      <td>0.754246</td>\n",
              "      <td>0.231481</td>\n",
              "      <td>1</td>\n",
              "    </tr>\n",
              "    <tr>\n",
              "      <th>1</th>\n",
              "      <td>-0.756159</td>\n",
              "      <td>0.153259</td>\n",
              "      <td>1</td>\n",
              "    </tr>\n",
              "    <tr>\n",
              "      <th>2</th>\n",
              "      <td>-0.815392</td>\n",
              "      <td>0.173282</td>\n",
              "      <td>1</td>\n",
              "    </tr>\n",
              "    <tr>\n",
              "      <th>3</th>\n",
              "      <td>-0.393731</td>\n",
              "      <td>0.692883</td>\n",
              "      <td>1</td>\n",
              "    </tr>\n",
              "    <tr>\n",
              "      <th>4</th>\n",
              "      <td>0.442208</td>\n",
              "      <td>-0.896723</td>\n",
              "      <td>0</td>\n",
              "    </tr>\n",
              "    <tr>\n",
              "      <th>5</th>\n",
              "      <td>-0.479646</td>\n",
              "      <td>0.676435</td>\n",
              "      <td>1</td>\n",
              "    </tr>\n",
              "    <tr>\n",
              "      <th>6</th>\n",
              "      <td>-0.013648</td>\n",
              "      <td>0.803349</td>\n",
              "      <td>1</td>\n",
              "    </tr>\n",
              "    <tr>\n",
              "      <th>7</th>\n",
              "      <td>0.771513</td>\n",
              "      <td>0.147760</td>\n",
              "      <td>1</td>\n",
              "    </tr>\n",
              "    <tr>\n",
              "      <th>8</th>\n",
              "      <td>-0.169322</td>\n",
              "      <td>-0.793456</td>\n",
              "      <td>1</td>\n",
              "    </tr>\n",
              "    <tr>\n",
              "      <th>9</th>\n",
              "      <td>-0.121486</td>\n",
              "      <td>1.021509</td>\n",
              "      <td>0</td>\n",
              "    </tr>\n",
              "  </tbody>\n",
              "</table>\n",
              "</div>\n",
              "    <div class=\"colab-df-buttons\">\n",
              "\n",
              "  <div class=\"colab-df-container\">\n",
              "    <button class=\"colab-df-convert\" onclick=\"convertToInteractive('df-6948c5ac-9578-4018-80fe-5d5b18bf6367')\"\n",
              "            title=\"Convert this dataframe to an interactive table.\"\n",
              "            style=\"display:none;\">\n",
              "\n",
              "  <svg xmlns=\"http://www.w3.org/2000/svg\" height=\"24px\" viewBox=\"0 -960 960 960\">\n",
              "    <path d=\"M120-120v-720h720v720H120Zm60-500h600v-160H180v160Zm220 220h160v-160H400v160Zm0 220h160v-160H400v160ZM180-400h160v-160H180v160Zm440 0h160v-160H620v160ZM180-180h160v-160H180v160Zm440 0h160v-160H620v160Z\"/>\n",
              "  </svg>\n",
              "    </button>\n",
              "\n",
              "  <style>\n",
              "    .colab-df-container {\n",
              "      display:flex;\n",
              "      gap: 12px;\n",
              "    }\n",
              "\n",
              "    .colab-df-convert {\n",
              "      background-color: #E8F0FE;\n",
              "      border: none;\n",
              "      border-radius: 50%;\n",
              "      cursor: pointer;\n",
              "      display: none;\n",
              "      fill: #1967D2;\n",
              "      height: 32px;\n",
              "      padding: 0 0 0 0;\n",
              "      width: 32px;\n",
              "    }\n",
              "\n",
              "    .colab-df-convert:hover {\n",
              "      background-color: #E2EBFA;\n",
              "      box-shadow: 0px 1px 2px rgba(60, 64, 67, 0.3), 0px 1px 3px 1px rgba(60, 64, 67, 0.15);\n",
              "      fill: #174EA6;\n",
              "    }\n",
              "\n",
              "    .colab-df-buttons div {\n",
              "      margin-bottom: 4px;\n",
              "    }\n",
              "\n",
              "    [theme=dark] .colab-df-convert {\n",
              "      background-color: #3B4455;\n",
              "      fill: #D2E3FC;\n",
              "    }\n",
              "\n",
              "    [theme=dark] .colab-df-convert:hover {\n",
              "      background-color: #434B5C;\n",
              "      box-shadow: 0px 1px 3px 1px rgba(0, 0, 0, 0.15);\n",
              "      filter: drop-shadow(0px 1px 2px rgba(0, 0, 0, 0.3));\n",
              "      fill: #FFFFFF;\n",
              "    }\n",
              "  </style>\n",
              "\n",
              "    <script>\n",
              "      const buttonEl =\n",
              "        document.querySelector('#df-6948c5ac-9578-4018-80fe-5d5b18bf6367 button.colab-df-convert');\n",
              "      buttonEl.style.display =\n",
              "        google.colab.kernel.accessAllowed ? 'block' : 'none';\n",
              "\n",
              "      async function convertToInteractive(key) {\n",
              "        const element = document.querySelector('#df-6948c5ac-9578-4018-80fe-5d5b18bf6367');\n",
              "        const dataTable =\n",
              "          await google.colab.kernel.invokeFunction('convertToInteractive',\n",
              "                                                    [key], {});\n",
              "        if (!dataTable) return;\n",
              "\n",
              "        const docLinkHtml = 'Like what you see? Visit the ' +\n",
              "          '<a target=\"_blank\" href=https://colab.research.google.com/notebooks/data_table.ipynb>data table notebook</a>'\n",
              "          + ' to learn more about interactive tables.';\n",
              "        element.innerHTML = '';\n",
              "        dataTable['output_type'] = 'display_data';\n",
              "        await google.colab.output.renderOutput(dataTable, element);\n",
              "        const docLink = document.createElement('div');\n",
              "        docLink.innerHTML = docLinkHtml;\n",
              "        element.appendChild(docLink);\n",
              "      }\n",
              "    </script>\n",
              "  </div>\n",
              "\n",
              "\n",
              "<div id=\"df-5a544106-60b9-4bcc-92b4-e29372a9b64d\">\n",
              "  <button class=\"colab-df-quickchart\" onclick=\"quickchart('df-5a544106-60b9-4bcc-92b4-e29372a9b64d')\"\n",
              "            title=\"Suggest charts\"\n",
              "            style=\"display:none;\">\n",
              "\n",
              "<svg xmlns=\"http://www.w3.org/2000/svg\" height=\"24px\"viewBox=\"0 0 24 24\"\n",
              "     width=\"24px\">\n",
              "    <g>\n",
              "        <path d=\"M19 3H5c-1.1 0-2 .9-2 2v14c0 1.1.9 2 2 2h14c1.1 0 2-.9 2-2V5c0-1.1-.9-2-2-2zM9 17H7v-7h2v7zm4 0h-2V7h2v10zm4 0h-2v-4h2v4z\"/>\n",
              "    </g>\n",
              "</svg>\n",
              "  </button>\n",
              "\n",
              "<style>\n",
              "  .colab-df-quickchart {\n",
              "      --bg-color: #E8F0FE;\n",
              "      --fill-color: #1967D2;\n",
              "      --hover-bg-color: #E2EBFA;\n",
              "      --hover-fill-color: #174EA6;\n",
              "      --disabled-fill-color: #AAA;\n",
              "      --disabled-bg-color: #DDD;\n",
              "  }\n",
              "\n",
              "  [theme=dark] .colab-df-quickchart {\n",
              "      --bg-color: #3B4455;\n",
              "      --fill-color: #D2E3FC;\n",
              "      --hover-bg-color: #434B5C;\n",
              "      --hover-fill-color: #FFFFFF;\n",
              "      --disabled-bg-color: #3B4455;\n",
              "      --disabled-fill-color: #666;\n",
              "  }\n",
              "\n",
              "  .colab-df-quickchart {\n",
              "    background-color: var(--bg-color);\n",
              "    border: none;\n",
              "    border-radius: 50%;\n",
              "    cursor: pointer;\n",
              "    display: none;\n",
              "    fill: var(--fill-color);\n",
              "    height: 32px;\n",
              "    padding: 0;\n",
              "    width: 32px;\n",
              "  }\n",
              "\n",
              "  .colab-df-quickchart:hover {\n",
              "    background-color: var(--hover-bg-color);\n",
              "    box-shadow: 0 1px 2px rgba(60, 64, 67, 0.3), 0 1px 3px 1px rgba(60, 64, 67, 0.15);\n",
              "    fill: var(--button-hover-fill-color);\n",
              "  }\n",
              "\n",
              "  .colab-df-quickchart-complete:disabled,\n",
              "  .colab-df-quickchart-complete:disabled:hover {\n",
              "    background-color: var(--disabled-bg-color);\n",
              "    fill: var(--disabled-fill-color);\n",
              "    box-shadow: none;\n",
              "  }\n",
              "\n",
              "  .colab-df-spinner {\n",
              "    border: 2px solid var(--fill-color);\n",
              "    border-color: transparent;\n",
              "    border-bottom-color: var(--fill-color);\n",
              "    animation:\n",
              "      spin 1s steps(1) infinite;\n",
              "  }\n",
              "\n",
              "  @keyframes spin {\n",
              "    0% {\n",
              "      border-color: transparent;\n",
              "      border-bottom-color: var(--fill-color);\n",
              "      border-left-color: var(--fill-color);\n",
              "    }\n",
              "    20% {\n",
              "      border-color: transparent;\n",
              "      border-left-color: var(--fill-color);\n",
              "      border-top-color: var(--fill-color);\n",
              "    }\n",
              "    30% {\n",
              "      border-color: transparent;\n",
              "      border-left-color: var(--fill-color);\n",
              "      border-top-color: var(--fill-color);\n",
              "      border-right-color: var(--fill-color);\n",
              "    }\n",
              "    40% {\n",
              "      border-color: transparent;\n",
              "      border-right-color: var(--fill-color);\n",
              "      border-top-color: var(--fill-color);\n",
              "    }\n",
              "    60% {\n",
              "      border-color: transparent;\n",
              "      border-right-color: var(--fill-color);\n",
              "    }\n",
              "    80% {\n",
              "      border-color: transparent;\n",
              "      border-right-color: var(--fill-color);\n",
              "      border-bottom-color: var(--fill-color);\n",
              "    }\n",
              "    90% {\n",
              "      border-color: transparent;\n",
              "      border-bottom-color: var(--fill-color);\n",
              "    }\n",
              "  }\n",
              "</style>\n",
              "\n",
              "  <script>\n",
              "    async function quickchart(key) {\n",
              "      const quickchartButtonEl =\n",
              "        document.querySelector('#' + key + ' button');\n",
              "      quickchartButtonEl.disabled = true;  // To prevent multiple clicks.\n",
              "      quickchartButtonEl.classList.add('colab-df-spinner');\n",
              "      try {\n",
              "        const charts = await google.colab.kernel.invokeFunction(\n",
              "            'suggestCharts', [key], {});\n",
              "      } catch (error) {\n",
              "        console.error('Error during call to suggestCharts:', error);\n",
              "      }\n",
              "      quickchartButtonEl.classList.remove('colab-df-spinner');\n",
              "      quickchartButtonEl.classList.add('colab-df-quickchart-complete');\n",
              "    }\n",
              "    (() => {\n",
              "      let quickchartButtonEl =\n",
              "        document.querySelector('#df-5a544106-60b9-4bcc-92b4-e29372a9b64d button');\n",
              "      quickchartButtonEl.style.display =\n",
              "        google.colab.kernel.accessAllowed ? 'block' : 'none';\n",
              "    })();\n",
              "  </script>\n",
              "</div>\n",
              "\n",
              "    </div>\n",
              "  </div>\n"
            ],
            "application/vnd.google.colaboratory.intrinsic+json": {
              "type": "dataframe",
              "variable_name": "circles",
              "summary": "{\n  \"name\": \"circles\",\n  \"rows\": 1000,\n  \"fields\": [\n    {\n      \"column\": \"X1\",\n      \"properties\": {\n        \"dtype\": \"number\",\n        \"std\": 0.6398365674574613,\n        \"min\": -1.0595024599098635,\n        \"max\": 1.0337117525463373,\n        \"num_unique_values\": 1000,\n        \"samples\": [\n          -0.3751930206933384,\n          0.015380346701456493,\n          -0.7027835978832848\n        ],\n        \"semantic_type\": \"\",\n        \"description\": \"\"\n      }\n    },\n    {\n      \"column\": \"X2\",\n      \"properties\": {\n        \"dtype\": \"number\",\n        \"std\": 0.6411559581015384,\n        \"min\": -1.0677683182718436,\n        \"max\": 1.0360036756154805,\n        \"num_unique_values\": 1000,\n        \"samples\": [\n          0.6826597225888621,\n          0.9600260220697324,\n          -0.3147169925147762\n        ],\n        \"semantic_type\": \"\",\n        \"description\": \"\"\n      }\n    },\n    {\n      \"column\": \"label\",\n      \"properties\": {\n        \"dtype\": \"number\",\n        \"std\": 0,\n        \"min\": 0,\n        \"max\": 1,\n        \"num_unique_values\": 2,\n        \"samples\": [\n          0,\n          1\n        ],\n        \"semantic_type\": \"\",\n        \"description\": \"\"\n      }\n    }\n  ]\n}"
            }
          },
          "metadata": {},
          "execution_count": 5
        }
      ]
    },
    {
      "cell_type": "code",
      "source": [
        "# Visualize\n",
        "import matplotlib.pyplot as plt\n",
        "plt.scatter(x=X[:, 0],\n",
        "            y=X[:, 1],\n",
        "            c=y,\n",
        "            cmap=plt.cm.RdYlBu\n",
        "            )"
      ],
      "metadata": {
        "colab": {
          "base_uri": "https://localhost:8080/",
          "height": 447
        },
        "id": "lv-3nMaxGgJP",
        "outputId": "82b944f0-5e52-4a62-e796-9ea8b237332b"
      },
      "execution_count": null,
      "outputs": [
        {
          "output_type": "execute_result",
          "data": {
            "text/plain": [
              "<matplotlib.collections.PathCollection at 0x7f9104fdda80>"
            ]
          },
          "metadata": {},
          "execution_count": 6
        },
        {
          "output_type": "display_data",
          "data": {
            "text/plain": [
              "<Figure size 640x480 with 1 Axes>"
            ],
            "image/png": "[encoded data removed]"
          },
          "metadata": {}
        }
      ]
    },
    {
      "cell_type": "markdown",
      "source": [
        "Note: the data we're working with is a toy dataset, a dataset that is small to experiment on, but still sizable enough to practice the fundamentals."
      ],
      "metadata": {
        "id": "c2gDopYNIWqn"
      }
    },
    {
      "cell_type": "markdown",
      "source": [
        "### Check input and output shapes"
      ],
      "metadata": {
        "id": "h-lZTD-jIWul"
      }
    },
    {
      "cell_type": "code",
      "source": [
        "X.shape, y.shape"
      ],
      "metadata": {
        "colab": {
          "base_uri": "https://localhost:8080/"
        },
        "id": "SwsZQjDWGgNq",
        "outputId": "fbb86785-34a1-461e-c30f-1221f48ec6b0"
      },
      "execution_count": null,
      "outputs": [
        {
          "output_type": "execute_result",
          "data": {
            "text/plain": [
              "((1000, 2), (1000,))"
            ]
          },
          "metadata": {},
          "execution_count": 7
        }
      ]
    },
    {
      "cell_type": "code",
      "source": [
        "# View the first examples of features and labels\n",
        "X_sample = X[0]\n",
        "y_sample = y[0]\n",
        "\n",
        "print(f\"Values for one sample of X: {X_sample} and the same for y: {y_sample}\")\n",
        "print(f\"Shape of one sample of X: {X_sample.shape} and the same for y: {y_sample.shape}\")"
      ],
      "metadata": {
        "colab": {
          "base_uri": "https://localhost:8080/"
        },
        "id": "C9RTcldXN5e2",
        "outputId": "40fcf219-8387-4192-8a4c-07c60466c7dc"
      },
      "execution_count": null,
      "outputs": [
        {
          "output_type": "stream",
          "name": "stdout",
          "text": [
            "Values for one sample of X: [0.75424625 0.23148074] and the same for y: 1\n",
            "Shape of one sample of X: (2,) and the same for y: ()\n"
          ]
        }
      ]
    },
    {
      "cell_type": "markdown",
      "source": [
        "### Turn data into tensors and create train and test splits"
      ],
      "metadata": {
        "id": "SDHnLxeDGgc7"
      }
    },
    {
      "cell_type": "code",
      "source": [
        "import torch\n",
        "from torch import nn\n",
        "\n",
        "torch.__version__"
      ],
      "metadata": {
        "colab": {
          "base_uri": "https://localhost:8080/",
          "height": 35
        },
        "id": "2Afzuq1qS-OG",
        "outputId": "b40cb5ef-0e3a-4a7b-94e2-5126bfcb3ed4"
      },
      "execution_count": null,
      "outputs": [
        {
          "output_type": "execute_result",
          "data": {
            "text/plain": [
              "'2.2.1+cu121'"
            ],
            "application/vnd.google.colaboratory.intrinsic+json": {
              "type": "string"
            }
          },
          "metadata": {},
          "execution_count": 9
        }
      ]
    },
    {
      "cell_type": "code",
      "source": [
        "type(X), X.dtype"
      ],
      "metadata": {
        "colab": {
          "base_uri": "https://localhost:8080/"
        },
        "id": "vpKSlKDmVGz7",
        "outputId": "24609670-eeeb-421e-924b-50bb44220543"
      },
      "execution_count": null,
      "outputs": [
        {
          "output_type": "execute_result",
          "data": {
            "text/plain": [
              "(numpy.ndarray, dtype('float64'))"
            ]
          },
          "metadata": {},
          "execution_count": 10
        }
      ]
    },
    {
      "cell_type": "code",
      "source": [
        "# Turn data from numpy into tensors\n",
        "X = torch.from_numpy(X).type(torch.float)\n",
        "y = torch.from_numpy(y).type(torch.float)\n",
        "\n",
        "X[:5], y[:5]"
      ],
      "metadata": {
        "colab": {
          "base_uri": "https://localhost:8080/"
        },
        "id": "1u41clEHTEfO",
        "outputId": "e3158fcd-d2aa-4293-cd92-1e30b0cb597d"
      },
      "execution_count": null,
      "outputs": [
        {
          "output_type": "execute_result",
          "data": {
            "text/plain": [
              "(tensor([[ 0.7542,  0.2315],\n",
              "         [-0.7562,  0.1533],\n",
              "         [-0.8154,  0.1733],\n",
              "         [-0.3937,  0.6929],\n",
              "         [ 0.4422, -0.8967]]),\n",
              " tensor([1., 1., 1., 1., 0.]))"
            ]
          },
          "metadata": {},
          "execution_count": 11
        }
      ]
    },
    {
      "cell_type": "markdown",
      "source": [
        "# Split data into traning and test sets"
      ],
      "metadata": {
        "id": "L5vsoFcnS-Ri"
      }
    },
    {
      "cell_type": "code",
      "source": [
        "from sklearn.model_selection import train_test_split\n",
        "\n",
        "X_train, X_test, y_train, y_test = train_test_split(\n",
        "    X,\n",
        "    y,\n",
        "    test_size=0.2, #(20% of data will be test and 80% will be train)\n",
        "    random_state=42 # similar to torch.manualseed, can't use torch.manual seed because that only works with pytroch code\n",
        ")"
      ],
      "metadata": {
        "id": "Yt9_D7GDVkDa"
      },
      "execution_count": null,
      "outputs": []
    },
    {
      "cell_type": "code",
      "source": [
        "# train data is 100, test data is 200, split by sklearn\n",
        "len(X_train), len(X_test), len(y_train), len(y_test)"
      ],
      "metadata": {
        "id": "1fVXWmU6Vmei",
        "colab": {
          "base_uri": "https://localhost:8080/"
        },
        "outputId": "71af302b-32fe-4d99-9166-f62a3ca6ab95"
      },
      "execution_count": null,
      "outputs": [
        {
          "output_type": "execute_result",
          "data": {
            "text/plain": [
              "(800, 200, 800, 200)"
            ]
          },
          "metadata": {},
          "execution_count": 13
        }
      ]
    },
    {
      "cell_type": "code",
      "source": [
        "n_samples"
      ],
      "metadata": {
        "colab": {
          "base_uri": "https://localhost:8080/"
        },
        "id": "6HLSQ0Kbrv1h",
        "outputId": "5a441a6c-20df-45de-c5bf-24cc23ef33c1"
      },
      "execution_count": null,
      "outputs": [
        {
          "output_type": "execute_result",
          "data": {
            "text/plain": [
              "1000"
            ]
          },
          "metadata": {},
          "execution_count": 14
        }
      ]
    },
    {
      "cell_type": "markdown",
      "source": [
        "## 2. Building a model\n",
        "\n",
        "Lets build a model to classify our blue and red dots.\n",
        "\n",
        "To do so we want to:\n",
        "\n",
        "1. Setup device agnostic code so our code runs on an accelerator (GPU) if there is one.\n",
        "2. Construct a model that inherits from nn.Module.\n",
        "3. Define a loss function and optimizer.\n",
        "4. Create a training and test loop."
      ],
      "metadata": {
        "id": "8Ch7oeTSrv6Z"
      }
    },
    {
      "cell_type": "code",
      "source": [
        "# Make device agnostic code:\n",
        "\n",
        "device = \"cuda\" if torch.cuda.is_available() else \"cpu\"\n",
        "device"
      ],
      "metadata": {
        "colab": {
          "base_uri": "https://localhost:8080/",
          "height": 35
        },
        "id": "TQAjUJ3Ntflw",
        "outputId": "43bb834c-259a-4b67-ba1d-0a0f4be2c3e1"
      },
      "execution_count": null,
      "outputs": [
        {
          "output_type": "execute_result",
          "data": {
            "text/plain": [
              "'cuda'"
            ],
            "application/vnd.google.colaboratory.intrinsic+json": {
              "type": "string"
            }
          },
          "metadata": {},
          "execution_count": 15
        }
      ]
    },
    {
      "cell_type": "code",
      "source": [
        "X_train, y_train"
      ],
      "metadata": {
        "id": "Gt61sXyAtfp1",
        "colab": {
          "base_uri": "https://localhost:8080/"
        },
        "outputId": "26d9cd45-aaa3-4caf-a283-5edd1c720c3e"
      },
      "execution_count": null,
      "outputs": [
        {
          "output_type": "execute_result",
          "data": {
            "text/plain": [
              "(tensor([[ 0.6579, -0.4651],\n",
              "         [ 0.6319, -0.7347],\n",
              "         [-1.0086, -0.1240],\n",
              "         ...,\n",
              "         [ 0.0157, -1.0300],\n",
              "         [ 1.0110,  0.1680],\n",
              "         [ 0.5578, -0.5709]]),\n",
              " tensor([1., 0., 0., 0., 1., 0., 1., 1., 0., 0., 1., 0., 0., 0., 1., 0., 0., 0.,\n",
              "         0., 1., 1., 1., 0., 1., 1., 1., 0., 0., 0., 0., 0., 0., 0., 1., 0., 0.,\n",
              "         1., 1., 1., 1., 1., 1., 0., 1., 0., 1., 0., 0., 0., 0., 0., 1., 0., 1.,\n",
              "         1., 1., 0., 1., 1., 1., 0., 0., 0., 1., 0., 0., 1., 0., 0., 0., 1., 1.,\n",
              "         1., 0., 0., 0., 0., 0., 0., 0., 1., 1., 0., 1., 0., 1., 0., 1., 0., 1.,\n",
              "         1., 1., 0., 0., 0., 1., 0., 1., 1., 0., 0., 0., 0., 0., 0., 1., 0., 0.,\n",
              "         0., 0., 1., 1., 0., 0., 1., 0., 1., 1., 0., 1., 0., 1., 0., 1., 0., 1.,\n",
              "         0., 0., 1., 1., 1., 1., 1., 1., 1., 0., 0., 1., 1., 1., 1., 1., 0., 1.,\n",
              "         1., 0., 1., 0., 0., 0., 1., 1., 0., 1., 1., 1., 1., 0., 0., 1., 1., 0.,\n",
              "         0., 1., 1., 1., 1., 0., 1., 1., 0., 0., 0., 1., 1., 1., 1., 1., 1., 1.,\n",
              "         0., 1., 1., 0., 0., 1., 1., 0., 0., 0., 0., 0., 1., 0., 0., 1., 1., 1.,\n",
              "         1., 1., 0., 0., 0., 0., 1., 1., 0., 1., 1., 0., 0., 0., 1., 0., 1., 1.,\n",
              "         1., 1., 1., 0., 1., 0., 0., 0., 0., 0., 0., 0., 0., 1., 1., 0., 0., 1.,\n",
              "         0., 1., 0., 0., 0., 1., 0., 1., 1., 1., 1., 1., 1., 0., 0., 1., 0., 1.,\n",
              "         0., 1., 0., 1., 0., 0., 1., 1., 0., 1., 1., 1., 0., 1., 0., 1., 1., 1.,\n",
              "         1., 1., 1., 0., 1., 0., 0., 0., 1., 1., 0., 1., 0., 0., 0., 1., 0., 0.,\n",
              "         1., 0., 0., 1., 0., 1., 0., 1., 1., 1., 1., 0., 1., 0., 0., 1., 1., 0.,\n",
              "         1., 0., 0., 1., 1., 1., 0., 1., 1., 0., 1., 1., 0., 0., 0., 1., 0., 0.,\n",
              "         0., 0., 0., 1., 1., 0., 0., 0., 1., 0., 1., 0., 0., 0., 0., 1., 1., 0.,\n",
              "         0., 0., 1., 1., 0., 1., 1., 1., 0., 0., 1., 0., 1., 0., 1., 1., 1., 1.,\n",
              "         0., 0., 0., 1., 0., 1., 0., 1., 0., 0., 0., 0., 1., 1., 0., 0., 1., 0.,\n",
              "         1., 1., 0., 0., 0., 1., 1., 0., 0., 1., 1., 0., 0., 0., 0., 1., 0., 1.,\n",
              "         0., 0., 1., 1., 1., 0., 0., 0., 1., 0., 1., 0., 1., 0., 0., 0., 0., 0.,\n",
              "         0., 0., 1., 0., 0., 0., 0., 1., 1., 0., 0., 1., 0., 0., 1., 1., 1., 1.,\n",
              "         0., 1., 1., 0., 0., 1., 0., 1., 0., 1., 1., 0., 0., 0., 0., 0., 1., 1.,\n",
              "         0., 0., 0., 1., 0., 0., 1., 0., 1., 1., 1., 1., 1., 1., 1., 1., 0., 0.,\n",
              "         1., 0., 1., 1., 1., 1., 0., 1., 0., 1., 1., 1., 0., 0., 0., 1., 0., 1.,\n",
              "         0., 1., 1., 0., 1., 0., 0., 1., 1., 0., 0., 0., 1., 1., 0., 0., 0., 0.,\n",
              "         1., 0., 0., 1., 1., 0., 0., 1., 0., 1., 1., 0., 0., 0., 1., 0., 1., 0.,\n",
              "         1., 1., 0., 0., 1., 1., 1., 1., 0., 1., 1., 1., 1., 1., 0., 1., 1., 1.,\n",
              "         0., 1., 1., 1., 1., 0., 0., 1., 1., 0., 0., 1., 0., 1., 0., 1., 0., 1.,\n",
              "         1., 0., 1., 1., 0., 0., 0., 1., 0., 1., 1., 1., 0., 0., 0., 1., 1., 0.,\n",
              "         1., 0., 1., 0., 1., 0., 0., 0., 0., 1., 0., 1., 1., 1., 1., 1., 0., 0.,\n",
              "         1., 0., 0., 1., 0., 1., 0., 1., 0., 1., 1., 1., 0., 1., 0., 0., 0., 0.,\n",
              "         1., 1., 0., 0., 0., 1., 0., 1., 0., 1., 0., 1., 0., 0., 1., 0., 1., 1.,\n",
              "         0., 0., 1., 0., 0., 1., 0., 1., 1., 1., 1., 0., 0., 0., 0., 0., 0., 1.,\n",
              "         0., 1., 1., 1., 1., 0., 1., 1., 0., 0., 0., 0., 1., 0., 1., 0., 0., 1.,\n",
              "         1., 0., 1., 0., 1., 1., 0., 0., 1., 1., 1., 1., 1., 0., 0., 1., 1., 0.,\n",
              "         1., 1., 1., 0., 0., 1., 1., 0., 0., 0., 1., 1., 0., 0., 1., 0., 1., 0.,\n",
              "         0., 1., 1., 1., 0., 0., 1., 1., 1., 1., 1., 0., 1., 1., 0., 1., 1., 1.,\n",
              "         1., 0., 1., 1., 0., 0., 1., 0., 1., 0., 0., 0., 1., 0., 1., 0., 0., 0.,\n",
              "         0., 0., 1., 0., 1., 0., 1., 0., 1., 1., 1., 1., 1., 1., 0., 1., 0., 0.,\n",
              "         1., 1., 0., 0., 0., 0., 1., 1., 1., 0., 1., 0., 1., 0., 1., 1., 1., 0.,\n",
              "         0., 1., 0., 0., 1., 1., 1., 1., 0., 1., 0., 1., 0., 1., 1., 0., 0., 1.,\n",
              "         1., 1., 0., 1., 0., 0., 0., 1.]))"
            ]
          },
          "metadata": {},
          "execution_count": 16
        }
      ]
    },
    {
      "cell_type": "code",
      "source": [
        "X_train.shape, y_train.shape"
      ],
      "metadata": {
        "colab": {
          "base_uri": "https://localhost:8080/"
        },
        "id": "k8aKO_5rxdL8",
        "outputId": "0c1064e4-4cbc-4753-b8b5-5164ce9d1937"
      },
      "execution_count": null,
      "outputs": [
        {
          "output_type": "execute_result",
          "data": {
            "text/plain": [
              "(torch.Size([800, 2]), torch.Size([800]))"
            ]
          },
          "metadata": {},
          "execution_count": 17
        }
      ]
    },
    {
      "cell_type": "markdown",
      "source": [
        "Now we've setup device agnostic code, lets create a model that:\n",
        "\n",
        "- Subclass nn.Module\n",
        "- Create 2 nn.Linear() layers capable of handling the shapes of our data\n",
        "- Define a forward method that outlines the forward pass\n",
        "- Instantiate an instance of the model class and send it to the target device"
      ],
      "metadata": {
        "id": "zKZAAzsEtfx_"
      }
    },
    {
      "cell_type": "code",
      "source": [
        "# 1. Construct a model that subclasses nn.Module\n",
        "class CircleModelV0(nn.Module):\n",
        "  def __init__(self):\n",
        "    super().__init__()\n",
        "\n",
        "    self.two_linear_layers = nn.Sequential(\n",
        "        nn.Linear(in_features=2, out_features=5),\n",
        "        nn.Linear(in_features=5, out_features=1)\n",
        "    )\n",
        "\n",
        "    # 3. Define a forward() method that outlines the forward pass\n",
        "    def forward(self, x):\n",
        "      return self.two_linear_layers(x)\n",
        "\n",
        "# 4.  Instantiate an instance of our model class and send it to target device\n",
        "model_0 = CircleModelV0().to(device)\n",
        "model_0"
      ],
      "metadata": {
        "colab": {
          "base_uri": "https://localhost:8080/"
        },
        "id": "WeZdfDSmusHi",
        "outputId": "e375ac5b-f554-4ea9-97b8-e8d82561c8fb"
      },
      "execution_count": null,
      "outputs": [
        {
          "output_type": "execute_result",
          "data": {
            "text/plain": [
              "CircleModelV0(\n",
              "  (two_linear_layers): Sequential(\n",
              "    (0): Linear(in_features=2, out_features=5, bias=True)\n",
              "    (1): Linear(in_features=5, out_features=1, bias=True)\n",
              "  )\n",
              ")"
            ]
          },
          "metadata": {},
          "execution_count": 18
        }
      ]
    },
    {
      "cell_type": "code",
      "source": [
        "device"
      ],
      "metadata": {
        "colab": {
          "base_uri": "https://localhost:8080/",
          "height": 35
        },
        "id": "mkWHWQgew_tU",
        "outputId": "4d00f44c-2920-4ce2-c049-6903f70881bd"
      },
      "execution_count": null,
      "outputs": [
        {
          "output_type": "execute_result",
          "data": {
            "text/plain": [
              "'cuda'"
            ],
            "application/vnd.google.colaboratory.intrinsic+json": {
              "type": "string"
            }
          },
          "metadata": {},
          "execution_count": 19
        }
      ]
    },
    {
      "cell_type": "code",
      "source": [
        "next(model_0.parameters()).device"
      ],
      "metadata": {
        "colab": {
          "base_uri": "https://localhost:8080/"
        },
        "id": "lyT0228wusMT",
        "outputId": "2a5c20a6-10da-412b-89f2-0da34f13e1d5"
      },
      "execution_count": null,
      "outputs": [
        {
          "output_type": "execute_result",
          "data": {
            "text/plain": [
              "device(type='cuda', index=0)"
            ]
          },
          "metadata": {},
          "execution_count": 20
        }
      ]
    },
    {
      "cell_type": "code",
      "source": [
        "# Lets replicate the model above using nn.Sequential()\n",
        "model_0 = nn.Sequential(\n",
        "    nn.Linear(in_features=2, out_features=5),\n",
        "    nn.Linear(in_features=5, out_features=1)\n",
        ").to(device)\n",
        "\n",
        "model_0"
      ],
      "metadata": {
        "colab": {
          "base_uri": "https://localhost:8080/"
        },
        "id": "FmKeKHA2rwE4",
        "outputId": "083b87b5-99b5-4205-caef-51b55157236d"
      },
      "execution_count": null,
      "outputs": [
        {
          "output_type": "execute_result",
          "data": {
            "text/plain": [
              "Sequential(\n",
              "  (0): Linear(in_features=2, out_features=5, bias=True)\n",
              "  (1): Linear(in_features=5, out_features=1, bias=True)\n",
              ")"
            ]
          },
          "metadata": {},
          "execution_count": 21
        }
      ]
    },
    {
      "cell_type": "code",
      "source": [
        "model_0.state_dict()"
      ],
      "metadata": {
        "colab": {
          "base_uri": "https://localhost:8080/"
        },
        "id": "ntB8Fv5f5e7w",
        "outputId": "c3335685-9183-46af-f064-3548ab2e756d"
      },
      "execution_count": null,
      "outputs": [
        {
          "output_type": "execute_result",
          "data": {
            "text/plain": [
              "OrderedDict([('0.weight',\n",
              "              tensor([[-0.5941,  0.0361],\n",
              "                      [-0.1338,  0.3487],\n",
              "                      [-0.6661, -0.4095],\n",
              "                      [ 0.5299,  0.4166],\n",
              "                      [ 0.3025,  0.0417]], device='cuda:0')),\n",
              "             ('0.bias',\n",
              "              tensor([ 0.0069,  0.2142, -0.1036,  0.6896,  0.1278], device='cuda:0')),\n",
              "             ('1.weight',\n",
              "              tensor([[ 0.2239, -0.3426,  0.1556,  0.3673, -0.2297]], device='cuda:0')),\n",
              "             ('1.bias', tensor([0.0622], device='cuda:0'))])"
            ]
          },
          "metadata": {},
          "execution_count": 22
        }
      ]
    },
    {
      "cell_type": "code",
      "source": [
        "# Make predictions\n",
        "\n",
        "with torch.inference_mode():\n",
        "  untrained_predictions = model_0(X_test.to(device))\n",
        "print(f\"Length of predictions: {len(untrained_predictions)}, Shape: {untrained_predictions.shape}\")\n",
        "print(f\"Length of test samples: {len(X_test)}, Shape: {X_test.shape}\")\n",
        "print(f\"\\nFirst 10 predictions:\\n{untrained_predictions[:10]}\")\n"
      ],
      "metadata": {
        "colab": {
          "base_uri": "https://localhost:8080/"
        },
        "id": "kYTls-vY0Iff",
        "outputId": "203e11a7-5e82-4dee-90ea-82aae21ccde2"
      },
      "execution_count": null,
      "outputs": [
        {
          "output_type": "stream",
          "name": "stdout",
          "text": [
            "Length of predictions: 200, Shape: torch.Size([200, 1])\n",
            "Length of test samples: 200, Shape: torch.Size([200, 2])\n",
            "\n",
            "First 10 predictions:\n",
            "tensor([[0.2012],\n",
            "        [0.1667],\n",
            "        [0.2543],\n",
            "        [0.1863],\n",
            "        [0.1953],\n",
            "        [0.1747],\n",
            "        [0.1245],\n",
            "        [0.1262],\n",
            "        [0.2567],\n",
            "        [0.1638]], device='cuda:0')\n"
          ]
        }
      ]
    },
    {
      "cell_type": "markdown",
      "source": [
        "### 2.1 setup loss function and optimizer\n",
        "\n",
        "Which loss function should you use for classification problem?\n",
        "\n",
        "Again... this is problem specific.\n",
        "\n",
        "For regression, you might want MAE or MSE (mean absolute or squared error).\n",
        "\n",
        "For classification, you might want binary cross entropy or categorical cross entropy.\n",
        "\n",
        "The loss function measures how wrong your models predictions are.\n",
        "\n",
        "And for optimizers, two of the most common and useful are:\n",
        "\n",
        "SGD and Adam.\n",
        "\n",
        "But there are many more of course."
      ],
      "metadata": {
        "id": "-LTIUVOs0Iji"
      }
    },
    {
      "cell_type": "code",
      "source": [
        "# Setup the loss function\n",
        "# loss_fn = nn.BCELoss # requires the input to have gone through the sigmoid activation function prior to input to BCELoss\n",
        "# nn.Sequential(\n",
        "#     nn.Sigmoid(),\n",
        "#     nn.BCELoss()\n",
        "# )\n",
        "\n",
        "#More numerically stable vs BCELoss\n",
        "loss_fn = nn.BCEWithLogitsLoss() #BCEWithLogitsLoss = sigmoid activation function built in\n",
        "\n",
        "optimizer = torch.optim.SGD(params=model_0.parameters(),\n",
        "                            lr=0.1)"
      ],
      "metadata": {
        "id": "4cHNX3TiCW9i"
      },
      "execution_count": null,
      "outputs": []
    },
    {
      "cell_type": "code",
      "source": [
        "model_0.state_dict()"
      ],
      "metadata": {
        "id": "bVhIQv2sCWXb",
        "colab": {
          "base_uri": "https://localhost:8080/"
        },
        "outputId": "13347113-70db-4f18-9391-fb8d80e2b7a4"
      },
      "execution_count": null,
      "outputs": [
        {
          "output_type": "execute_result",
          "data": {
            "text/plain": [
              "OrderedDict([('0.weight',\n",
              "              tensor([[-0.5941,  0.0361],\n",
              "                      [-0.1338,  0.3487],\n",
              "                      [-0.6661, -0.4095],\n",
              "                      [ 0.5299,  0.4166],\n",
              "                      [ 0.3025,  0.0417]], device='cuda:0')),\n",
              "             ('0.bias',\n",
              "              tensor([ 0.0069,  0.2142, -0.1036,  0.6896,  0.1278], device='cuda:0')),\n",
              "             ('1.weight',\n",
              "              tensor([[ 0.2239, -0.3426,  0.1556,  0.3673, -0.2297]], device='cuda:0')),\n",
              "             ('1.bias', tensor([0.0622], device='cuda:0'))])"
            ]
          },
          "metadata": {},
          "execution_count": 25
        }
      ]
    },
    {
      "cell_type": "code",
      "source": [
        "# Calculate accuracy - out of a 100 examples, what percentage does our model get right\n",
        "def accuracy_fn(y_true, y_pred):\n",
        "  correct = torch.eq(y_true, y_pred).sum().item()\n",
        "  acc = (correct / len(y_pred)) * 100\n",
        "  return acc"
      ],
      "metadata": {
        "id": "Q6vdAK8oCWco"
      },
      "execution_count": null,
      "outputs": []
    },
    {
      "cell_type": "markdown",
      "source": [
        "# 3. Training a model\n",
        "\n",
        "We need to build a training loop:\n",
        "\n",
        "1. Forward pass.\n",
        "2. Calculate the loss.\n",
        "3. Optimizer zero grad.\n",
        "4. Loss backward.\n",
        "5. Optimizer step."
      ],
      "metadata": {
        "id": "2B6O4NmBCDrF"
      }
    },
    {
      "cell_type": "markdown",
      "source": [
        "### 3.1 Going from raw logits -> prediction probabilities -> prediction labels\n",
        "\n",
        "Our model outputs are going to be raw *logits*.\n",
        "\n",
        "We can convert these logits into **prediction probabilities** by passing them to some kind of activation function (ex: sigmoid for binary cross entropy and softmax for multiclass classification).\n",
        "\n",
        "Then we can convert out model's prediction probabilities to prediction labels by either rounding them or taking the argmax."
      ],
      "metadata": {
        "id": "a_OrulElCD09"
      }
    },
    {
      "cell_type": "code",
      "source": [
        "# View the first 5 outputs of the outputs of the forward pass on the test data\n",
        "with torch.inference_mode():\n",
        "  y_logits = model_0(X_test.to(device))[:5]\n",
        "y_logits"
      ],
      "metadata": {
        "colab": {
          "base_uri": "https://localhost:8080/"
        },
        "id": "0gWE-lvY4QeV",
        "outputId": "4391bba5-2a30-4006-cdae-6a12a2ac2267"
      },
      "execution_count": null,
      "outputs": [
        {
          "output_type": "execute_result",
          "data": {
            "text/plain": [
              "tensor([[0.2012],\n",
              "        [0.1667],\n",
              "        [0.2543],\n",
              "        [0.1863],\n",
              "        [0.1953]], device='cuda:0')"
            ]
          },
          "metadata": {},
          "execution_count": 27
        }
      ]
    },
    {
      "cell_type": "code",
      "source": [
        "y_test[:5]"
      ],
      "metadata": {
        "colab": {
          "base_uri": "https://localhost:8080/"
        },
        "id": "nIlafGj84Qhp",
        "outputId": "2e91b971-18c4-42e7-a4f3-ddf0949fbec1"
      },
      "execution_count": null,
      "outputs": [
        {
          "output_type": "execute_result",
          "data": {
            "text/plain": [
              "tensor([1., 0., 1., 0., 1.])"
            ]
          },
          "metadata": {},
          "execution_count": 28
        }
      ]
    },
    {
      "cell_type": "code",
      "source": [
        "# Use the sigmoid activation function on our model logits to turn them into prediction probabilities\n",
        "y_pred_probs = torch.sigmoid(y_logits)\n",
        "y_pred_probs"
      ],
      "metadata": {
        "id": "eNGss5oA0I7f",
        "colab": {
          "base_uri": "https://localhost:8080/"
        },
        "outputId": "5b59a4b6-379c-415d-f3af-2e277952eea9"
      },
      "execution_count": null,
      "outputs": [
        {
          "output_type": "execute_result",
          "data": {
            "text/plain": [
              "tensor([[0.5501],\n",
              "        [0.5416],\n",
              "        [0.5632],\n",
              "        [0.5464],\n",
              "        [0.5487]], device='cuda:0')"
            ]
          },
          "metadata": {},
          "execution_count": 29
        }
      ]
    },
    {
      "cell_type": "markdown",
      "source": [
        "For our prediction probabilities, we need to perform a range-style rounding on them:\n",
        "\n",
        "* y_pred_probs >= 0.5, y=1 (class 1)\n",
        "* y_pred_probs < 0.5, y=0 (class 0)"
      ],
      "metadata": {
        "id": "Mwj7eRgc9epe"
      }
    },
    {
      "cell_type": "code",
      "source": [
        "# Find the predicted labels\n",
        "y_preds = torch.round(y_pred_probs)\n",
        "\n",
        "# In full\n",
        "y_pred_labels = torch.round(torch.sigmoid(model_0(X_test.to(device))[:5]))\n",
        "\n",
        "#Check for equality\n",
        "print(torch.eq(y_preds.squeeze(), y_pred_labels.squeeze()))\n",
        "\n",
        "# # Get rid of extra dimension\n",
        "y_preds.squeeze()"
      ],
      "metadata": {
        "id": "Z0qWCvXj0JBA",
        "colab": {
          "base_uri": "https://localhost:8080/"
        },
        "outputId": "537acafe-5cc2-48b1-dc15-1a30645e46e0"
      },
      "execution_count": null,
      "outputs": [
        {
          "output_type": "stream",
          "name": "stdout",
          "text": [
            "tensor([True, True, True, True, True], device='cuda:0')\n"
          ]
        },
        {
          "output_type": "execute_result",
          "data": {
            "text/plain": [
              "tensor([1., 1., 1., 1., 1.], device='cuda:0')"
            ]
          },
          "metadata": {},
          "execution_count": 30
        }
      ]
    },
    {
      "cell_type": "code",
      "source": [
        "y_test[:5]"
      ],
      "metadata": {
        "id": "_Iks0zZVDdnw",
        "colab": {
          "base_uri": "https://localhost:8080/"
        },
        "outputId": "c9952886-02dd-4845-9bcc-2286f928b59d"
      },
      "execution_count": null,
      "outputs": [
        {
          "output_type": "execute_result",
          "data": {
            "text/plain": [
              "tensor([1., 0., 1., 0., 1.])"
            ]
          },
          "metadata": {},
          "execution_count": 31
        }
      ]
    },
    {
      "cell_type": "markdown",
      "source": [
        "### 3.2 Building a training a testing loop"
      ],
      "metadata": {
        "id": "mXRj8HDD_O5m"
      }
    },
    {
      "cell_type": "code",
      "source": [
        "torch.manual_seed(42)\n",
        "torch.cuda.manual_seed(42)\n",
        "\n",
        "# Set the number of epochs\n",
        "epochs = 1000\n",
        "\n",
        "# Put data to target device (device agnostic code)\n",
        "X_train, y_train = X_train.to(device), y_train.to(device)\n",
        "X_test, y_test = X_test.to(device), y_test.to(device)\n",
        "\n",
        "for epoch in range(epochs):\n",
        "  ### Training\n",
        "  model_0.train()\n",
        "\n",
        "  # 1. Forward pass (removes an extra one dimension)\n",
        "  y_logits = model_0(X_train).squeeze()\n",
        "  y_pred = torch.round(torch.sigmoid(y_logits))\n",
        "  # turn logits -> pred prob -> pred labels\n",
        "\n",
        "  # 2. Calculate the loss\n",
        "  loss = loss_fn(y_logits, y_train)\n",
        "  # Since we are using BCEWithLogitsLoss() it expects logits as input vs prediction probabilities\n",
        "  acc = accuracy_fn(y_true=y_train, y_pred=y_pred)\n",
        "\n",
        "  # 3. Optimizer zero grad\n",
        "  optimizer.zero_grad()\n",
        "\n",
        "  # 4. Loss backward (backpropagation)\n",
        "  loss.backward()\n",
        "\n",
        "  # 5. Optimizer step (gradient descent)\n",
        "  optimizer.step()\n",
        "\n",
        "\n",
        "  ### Testing\n",
        "  model_0.eval()\n",
        "\n",
        "  with torch.inference_mode():\n",
        "    # 1. Forward pass\n",
        "    test_logits = model_0(X_test).squeeze()\n",
        "    test_pred = torch.round(torch.sigmoid(test_logits))\n",
        "    # 2. Calculate\n",
        "    test_loss = loss_fn(test_logits,\n",
        "                        y_test)\n",
        "\n",
        "    test_acc = accuracy_fn(y_true=y_test,\n",
        "                           y_pred=test_pred)\n",
        "\n",
        "\n",
        "  # Print out what's happening\n",
        "  if epoch % 10 == 0:\n",
        "    print(f\"Epoch: {epoch} | Loss: {loss:.5f}, Accuracy: {acc:.2f}% | Test loss: {test_loss:.5f}, Test acc: {test_acc:.2f}%\")\n"
      ],
      "metadata": {
        "id": "1mUWB3RUGrKP",
        "colab": {
          "base_uri": "https://localhost:8080/"
        },
        "outputId": "854bb58a-b6ae-4bd9-a85c-a5be942129fa"
      },
      "execution_count": null,
      "outputs": [
        {
          "output_type": "stream",
          "name": "stdout",
          "text": [
            "Epoch: 0 | Loss: 0.69867, Accuracy: 50.00% | Test loss: 0.69642, Test acc: 50.00%\n",
            "Epoch: 10 | Loss: 0.69583, Accuracy: 50.00% | Test loss: 0.69378, Test acc: 50.00%\n",
            "Epoch: 20 | Loss: 0.69463, Accuracy: 50.00% | Test loss: 0.69280, Test acc: 50.00%\n",
            "Epoch: 30 | Loss: 0.69405, Accuracy: 54.37% | Test loss: 0.69249, Test acc: 58.50%\n",
            "Epoch: 40 | Loss: 0.69374, Accuracy: 58.13% | Test loss: 0.69245, Test acc: 60.00%\n",
            "Epoch: 50 | Loss: 0.69354, Accuracy: 55.62% | Test loss: 0.69253, Test acc: 57.50%\n",
            "Epoch: 60 | Loss: 0.69341, Accuracy: 56.12% | Test loss: 0.69265, Test acc: 59.00%\n",
            "Epoch: 70 | Loss: 0.69331, Accuracy: 57.63% | Test loss: 0.69280, Test acc: 59.50%\n",
            "Epoch: 80 | Loss: 0.69324, Accuracy: 50.00% | Test loss: 0.69295, Test acc: 50.00%\n",
            "Epoch: 90 | Loss: 0.69319, Accuracy: 50.00% | Test loss: 0.69309, Test acc: 50.00%\n",
            "Epoch: 100 | Loss: 0.69315, Accuracy: 50.00% | Test loss: 0.69323, Test acc: 50.00%\n",
            "Epoch: 110 | Loss: 0.69312, Accuracy: 50.00% | Test loss: 0.69335, Test acc: 50.00%\n",
            "Epoch: 120 | Loss: 0.69309, Accuracy: 54.62% | Test loss: 0.69347, Test acc: 48.00%\n",
            "Epoch: 130 | Loss: 0.69307, Accuracy: 52.75% | Test loss: 0.69357, Test acc: 47.50%\n",
            "Epoch: 140 | Loss: 0.69306, Accuracy: 52.12% | Test loss: 0.69367, Test acc: 46.50%\n",
            "Epoch: 150 | Loss: 0.69304, Accuracy: 52.12% | Test loss: 0.69376, Test acc: 46.50%\n",
            "Epoch: 160 | Loss: 0.69303, Accuracy: 52.12% | Test loss: 0.69384, Test acc: 48.00%\n",
            "Epoch: 170 | Loss: 0.69303, Accuracy: 51.62% | Test loss: 0.69391, Test acc: 47.50%\n",
            "Epoch: 180 | Loss: 0.69302, Accuracy: 51.88% | Test loss: 0.69397, Test acc: 47.00%\n",
            "Epoch: 190 | Loss: 0.69301, Accuracy: 51.75% | Test loss: 0.69403, Test acc: 47.00%\n",
            "Epoch: 200 | Loss: 0.69301, Accuracy: 51.62% | Test loss: 0.69408, Test acc: 47.00%\n",
            "Epoch: 210 | Loss: 0.69300, Accuracy: 51.38% | Test loss: 0.69413, Test acc: 46.50%\n",
            "Epoch: 220 | Loss: 0.69300, Accuracy: 51.25% | Test loss: 0.69417, Test acc: 46.00%\n",
            "Epoch: 230 | Loss: 0.69300, Accuracy: 51.38% | Test loss: 0.69421, Test acc: 46.00%\n",
            "Epoch: 240 | Loss: 0.69300, Accuracy: 51.62% | Test loss: 0.69425, Test acc: 46.50%\n",
            "Epoch: 250 | Loss: 0.69299, Accuracy: 51.38% | Test loss: 0.69428, Test acc: 46.50%\n",
            "Epoch: 260 | Loss: 0.69299, Accuracy: 51.62% | Test loss: 0.69431, Test acc: 46.50%\n",
            "Epoch: 270 | Loss: 0.69299, Accuracy: 51.62% | Test loss: 0.69434, Test acc: 46.50%\n",
            "Epoch: 280 | Loss: 0.69299, Accuracy: 51.75% | Test loss: 0.69436, Test acc: 47.00%\n",
            "Epoch: 290 | Loss: 0.69299, Accuracy: 51.62% | Test loss: 0.69438, Test acc: 47.00%\n",
            "Epoch: 300 | Loss: 0.69299, Accuracy: 51.38% | Test loss: 0.69440, Test acc: 47.00%\n",
            "Epoch: 310 | Loss: 0.69299, Accuracy: 51.38% | Test loss: 0.69442, Test acc: 47.00%\n",
            "Epoch: 320 | Loss: 0.69299, Accuracy: 51.38% | Test loss: 0.69444, Test acc: 47.00%\n",
            "Epoch: 330 | Loss: 0.69299, Accuracy: 51.38% | Test loss: 0.69446, Test acc: 46.50%\n",
            "Epoch: 340 | Loss: 0.69298, Accuracy: 51.12% | Test loss: 0.69447, Test acc: 45.50%\n",
            "Epoch: 350 | Loss: 0.69298, Accuracy: 51.25% | Test loss: 0.69449, Test acc: 45.50%\n",
            "Epoch: 360 | Loss: 0.69298, Accuracy: 51.50% | Test loss: 0.69450, Test acc: 45.50%\n",
            "Epoch: 370 | Loss: 0.69298, Accuracy: 51.50% | Test loss: 0.69451, Test acc: 46.00%\n",
            "Epoch: 380 | Loss: 0.69298, Accuracy: 51.38% | Test loss: 0.69452, Test acc: 46.00%\n",
            "Epoch: 390 | Loss: 0.69298, Accuracy: 51.38% | Test loss: 0.69453, Test acc: 46.00%\n",
            "Epoch: 400 | Loss: 0.69298, Accuracy: 51.38% | Test loss: 0.69454, Test acc: 46.00%\n",
            "Epoch: 410 | Loss: 0.69298, Accuracy: 51.50% | Test loss: 0.69455, Test acc: 46.00%\n",
            "Epoch: 420 | Loss: 0.69298, Accuracy: 51.50% | Test loss: 0.69456, Test acc: 45.50%\n",
            "Epoch: 430 | Loss: 0.69298, Accuracy: 51.25% | Test loss: 0.69456, Test acc: 45.50%\n",
            "Epoch: 440 | Loss: 0.69298, Accuracy: 51.00% | Test loss: 0.69457, Test acc: 45.50%\n",
            "Epoch: 450 | Loss: 0.69298, Accuracy: 50.88% | Test loss: 0.69458, Test acc: 45.50%\n",
            "Epoch: 460 | Loss: 0.69298, Accuracy: 50.88% | Test loss: 0.69458, Test acc: 45.50%\n",
            "Epoch: 470 | Loss: 0.69298, Accuracy: 50.88% | Test loss: 0.69459, Test acc: 45.50%\n",
            "Epoch: 480 | Loss: 0.69298, Accuracy: 50.88% | Test loss: 0.69460, Test acc: 45.50%\n",
            "Epoch: 490 | Loss: 0.69298, Accuracy: 51.00% | Test loss: 0.69460, Test acc: 45.50%\n",
            "Epoch: 500 | Loss: 0.69298, Accuracy: 51.25% | Test loss: 0.69461, Test acc: 45.50%\n",
            "Epoch: 510 | Loss: 0.69298, Accuracy: 51.25% | Test loss: 0.69461, Test acc: 45.50%\n",
            "Epoch: 520 | Loss: 0.69298, Accuracy: 51.25% | Test loss: 0.69461, Test acc: 45.50%\n",
            "Epoch: 530 | Loss: 0.69298, Accuracy: 51.25% | Test loss: 0.69462, Test acc: 45.50%\n",
            "Epoch: 540 | Loss: 0.69298, Accuracy: 51.25% | Test loss: 0.69462, Test acc: 45.50%\n",
            "Epoch: 550 | Loss: 0.69298, Accuracy: 51.38% | Test loss: 0.69463, Test acc: 45.50%\n",
            "Epoch: 560 | Loss: 0.69298, Accuracy: 51.38% | Test loss: 0.69463, Test acc: 45.50%\n",
            "Epoch: 570 | Loss: 0.69298, Accuracy: 51.38% | Test loss: 0.69463, Test acc: 45.50%\n",
            "Epoch: 580 | Loss: 0.69298, Accuracy: 51.38% | Test loss: 0.69463, Test acc: 45.50%\n",
            "Epoch: 590 | Loss: 0.69298, Accuracy: 51.38% | Test loss: 0.69464, Test acc: 45.50%\n",
            "Epoch: 600 | Loss: 0.69298, Accuracy: 51.38% | Test loss: 0.69464, Test acc: 45.50%\n",
            "Epoch: 610 | Loss: 0.69298, Accuracy: 51.50% | Test loss: 0.69464, Test acc: 45.50%\n",
            "Epoch: 620 | Loss: 0.69298, Accuracy: 51.38% | Test loss: 0.69464, Test acc: 45.50%\n",
            "Epoch: 630 | Loss: 0.69298, Accuracy: 51.38% | Test loss: 0.69465, Test acc: 45.50%\n",
            "Epoch: 640 | Loss: 0.69298, Accuracy: 51.38% | Test loss: 0.69465, Test acc: 45.50%\n",
            "Epoch: 650 | Loss: 0.69298, Accuracy: 51.38% | Test loss: 0.69465, Test acc: 45.50%\n",
            "Epoch: 660 | Loss: 0.69298, Accuracy: 51.25% | Test loss: 0.69465, Test acc: 45.50%\n",
            "Epoch: 670 | Loss: 0.69298, Accuracy: 51.25% | Test loss: 0.69465, Test acc: 45.50%\n",
            "Epoch: 680 | Loss: 0.69298, Accuracy: 51.25% | Test loss: 0.69466, Test acc: 45.50%\n",
            "Epoch: 690 | Loss: 0.69298, Accuracy: 51.25% | Test loss: 0.69466, Test acc: 45.50%\n",
            "Epoch: 700 | Loss: 0.69298, Accuracy: 51.25% | Test loss: 0.69466, Test acc: 45.50%\n",
            "Epoch: 710 | Loss: 0.69298, Accuracy: 51.25% | Test loss: 0.69466, Test acc: 45.50%\n",
            "Epoch: 720 | Loss: 0.69298, Accuracy: 51.25% | Test loss: 0.69466, Test acc: 46.00%\n",
            "Epoch: 730 | Loss: 0.69298, Accuracy: 51.25% | Test loss: 0.69466, Test acc: 46.00%\n",
            "Epoch: 740 | Loss: 0.69298, Accuracy: 51.25% | Test loss: 0.69466, Test acc: 46.00%\n",
            "Epoch: 750 | Loss: 0.69298, Accuracy: 51.25% | Test loss: 0.69466, Test acc: 46.00%\n",
            "Epoch: 760 | Loss: 0.69298, Accuracy: 51.25% | Test loss: 0.69466, Test acc: 46.00%\n",
            "Epoch: 770 | Loss: 0.69298, Accuracy: 51.25% | Test loss: 0.69467, Test acc: 46.00%\n",
            "Epoch: 780 | Loss: 0.69298, Accuracy: 51.25% | Test loss: 0.69467, Test acc: 46.00%\n",
            "Epoch: 790 | Loss: 0.69298, Accuracy: 51.25% | Test loss: 0.69467, Test acc: 46.00%\n",
            "Epoch: 800 | Loss: 0.69298, Accuracy: 51.25% | Test loss: 0.69467, Test acc: 46.00%\n",
            "Epoch: 810 | Loss: 0.69298, Accuracy: 51.12% | Test loss: 0.69467, Test acc: 46.00%\n",
            "Epoch: 820 | Loss: 0.69298, Accuracy: 51.12% | Test loss: 0.69467, Test acc: 46.00%\n",
            "Epoch: 830 | Loss: 0.69298, Accuracy: 51.12% | Test loss: 0.69467, Test acc: 46.00%\n",
            "Epoch: 840 | Loss: 0.69298, Accuracy: 51.12% | Test loss: 0.69467, Test acc: 46.00%\n",
            "Epoch: 850 | Loss: 0.69298, Accuracy: 51.12% | Test loss: 0.69467, Test acc: 46.00%\n",
            "Epoch: 860 | Loss: 0.69298, Accuracy: 51.12% | Test loss: 0.69467, Test acc: 46.00%\n",
            "Epoch: 870 | Loss: 0.69298, Accuracy: 51.12% | Test loss: 0.69467, Test acc: 46.00%\n",
            "Epoch: 880 | Loss: 0.69298, Accuracy: 51.12% | Test loss: 0.69467, Test acc: 46.00%\n",
            "Epoch: 890 | Loss: 0.69298, Accuracy: 51.12% | Test loss: 0.69467, Test acc: 46.00%\n",
            "Epoch: 900 | Loss: 0.69298, Accuracy: 51.12% | Test loss: 0.69467, Test acc: 46.00%\n",
            "Epoch: 910 | Loss: 0.69298, Accuracy: 51.12% | Test loss: 0.69467, Test acc: 46.00%\n",
            "Epoch: 920 | Loss: 0.69298, Accuracy: 51.12% | Test loss: 0.69467, Test acc: 46.00%\n",
            "Epoch: 930 | Loss: 0.69298, Accuracy: 51.12% | Test loss: 0.69467, Test acc: 46.00%\n",
            "Epoch: 940 | Loss: 0.69298, Accuracy: 51.12% | Test loss: 0.69467, Test acc: 46.00%\n",
            "Epoch: 950 | Loss: 0.69298, Accuracy: 51.12% | Test loss: 0.69467, Test acc: 46.00%\n",
            "Epoch: 960 | Loss: 0.69298, Accuracy: 51.12% | Test loss: 0.69468, Test acc: 46.00%\n",
            "Epoch: 970 | Loss: 0.69298, Accuracy: 51.12% | Test loss: 0.69468, Test acc: 46.00%\n",
            "Epoch: 980 | Loss: 0.69298, Accuracy: 51.12% | Test loss: 0.69468, Test acc: 46.00%\n",
            "Epoch: 990 | Loss: 0.69298, Accuracy: 51.12% | Test loss: 0.69468, Test acc: 46.00%\n"
          ]
        }
      ]
    },
    {
      "cell_type": "markdown",
      "source": [
        "## 4. Make predictions and evaluate the model\n",
        "\n",
        "From the metrics, the model isn't learning anything....\n",
        "\n",
        "So lets inspect it and make some predictions + make them visual.\n",
        "\n",
        "In other words, visualize, visualize, visualize.\n",
        "\n",
        "TO do so, we're going to import a function called `plot_decision_boundary()`."
      ],
      "metadata": {
        "id": "VNM5e3jFGrOJ"
      }
    },
    {
      "cell_type": "code",
      "source": [
        "import requests\n",
        "\n",
        "from pathlib import Path\n",
        "\n",
        "# Download helper functions from Learn Pytorch repo (if not already downloadded)\n",
        "if Path(\"helper_functions.py\").is_file():\n",
        "  print(\"helper_functions.py already exists, skipping download...\")\n",
        "else:\n",
        "  print(\"Downloading helper_functions.py\")\n",
        "  request = requests.get(\"https://raw.githubusercontent.com/mrdbourke/pytorch-deep-learning/main/helper_functions.py\")\n",
        "  with open(\"helper_functions.py\", \"wb\") as f:\n",
        "    f.write(request.content)\n",
        "\n",
        "from helper_functions import plot_predictions, plot_decision_boundary"
      ],
      "metadata": {
        "id": "OpWkb49fGrcW",
        "colab": {
          "base_uri": "https://localhost:8080/"
        },
        "outputId": "ee42df33-27e7-40c2-9a30-f4ddcbcc655f"
      },
      "execution_count": null,
      "outputs": [
        {
          "output_type": "stream",
          "name": "stdout",
          "text": [
            "Downloading helper_functions.py\n"
          ]
        }
      ]
    },
    {
      "cell_type": "code",
      "source": [
        "# Plot decision boundary of the model\n",
        "plt.figure(figsize=(12, 6))\n",
        "plt.subplot(1,2,1)\n",
        "plt.title(\"Train\")\n",
        "plot_decision_boundary(model_0, X_train, y_train)\n",
        "plt.subplot(1,2,2)\n",
        "plt.title(\"Test\")\n",
        "plot_decision_boundary(model_0, X_test, y_test)"
      ],
      "metadata": {
        "colab": {
          "base_uri": "https://localhost:8080/",
          "height": 352
        },
        "id": "IbpRo9wfFEa2",
        "outputId": "577045c8-3a38-4506-bbf8-e01794a620c5"
      },
      "execution_count": null,
      "outputs": [
        {
          "output_type": "display_data",
          "data": {
            "text/plain": [
              "<Figure size 1200x600 with 2 Axes>"
            ],
            "image/png": "[encoded data removed]"
          },
          "metadata": {}
        }
      ]
    },
    {
      "cell_type": "code",
      "source": [
        "X_train[:5], y_train[:5]"
      ],
      "metadata": {
        "colab": {
          "base_uri": "https://localhost:8080/"
        },
        "id": "xKMiVpxtU2IO",
        "outputId": "5a9756d4-a349-431a-cb44-530f4c3f8ea8"
      },
      "execution_count": null,
      "outputs": [
        {
          "output_type": "execute_result",
          "data": {
            "text/plain": [
              "(tensor([[ 0.6579, -0.4651],\n",
              "         [ 0.6319, -0.7347],\n",
              "         [-1.0086, -0.1240],\n",
              "         [-0.9666, -0.2256],\n",
              "         [-0.1666,  0.7994]], device='cuda:0'),\n",
              " tensor([1., 0., 0., 0., 1.], device='cuda:0'))"
            ]
          },
          "metadata": {},
          "execution_count": 35
        }
      ]
    },
    {
      "cell_type": "markdown",
      "source": [
        "## 5. Improving a model (from a model perspective)\n",
        "\n",
        "* Add more layers - give the model more chances to learn about patters in data\n",
        "\n",
        "* Add more hidden units - go from 5 hidden units to 10 hidden units\n",
        "\n",
        "* Fit for longer (longer epochs)\n",
        "\n",
        "* Changing the activation (for example: sigmoid function)\n",
        "\n",
        "* Change the learning rate (making it smaller or larger)\n",
        "\n",
        "* Change the loss function\n",
        "\n",
        "These options are all from a model's perspective because they deal directly with the model than the data.\n",
        "\n",
        "And because these options are all values can change, they are referred to as hyper parameters.\n",
        "\n",
        "Lets try to improve the model by:\n",
        "\n",
        "* adding more hidden units 5 -> 10\n",
        "* increase number of layers: 2-> 3\n",
        "* increase the number of epochs: 10 -> 1000"
      ],
      "metadata": {
        "id": "sjmQyZot_O9a"
      }
    },
    {
      "cell_type": "code",
      "source": [
        "class CircleModelV1(nn.Module):\n",
        "  def __init__(self):\n",
        "    super().__init__()\n",
        "\n",
        "    self.layer_1 = nn.Linear(in_features=2, out_features=10)\n",
        "    self.layer_2 = nn.Linear(in_features=10, out_features=10)\n",
        "    self.layer_3 = nn.Linear(in_features=10, out_features=1)\n",
        "\n",
        "  # 3. Define a forward() method that outlines the forward pass\n",
        "  def forward(self, x):\n",
        "    # # z stands for logits, it's basically taking x and passing it through layer 1 and assigning it to z\n",
        "    # z = self.layer_1(x)\n",
        "    # # then layer 2 and assigning to z\n",
        "    # z = self.layer_2(x)\n",
        "    # # then layer 3 and assigning to z\n",
        "    # z = self.layer_3(x)\n",
        "    return self.layer_3(self.layer_2(self.layer_1(x)))\n",
        "\n",
        "model_1 = CircleModelV1().to(device)\n",
        "model_1"
      ],
      "metadata": {
        "colab": {
          "base_uri": "https://localhost:8080/"
        },
        "id": "GMhyYJ24LerT",
        "outputId": "b1b8fa77-4778-4e9d-cbfe-f634ba40cb58"
      },
      "execution_count": 43,
      "outputs": [
        {
          "output_type": "execute_result",
          "data": {
            "text/plain": [
              "CircleModelV1(\n",
              "  (layer_1): Linear(in_features=2, out_features=10, bias=True)\n",
              "  (layer_2): Linear(in_features=10, out_features=10, bias=True)\n",
              "  (layer_3): Linear(in_features=10, out_features=1, bias=True)\n",
              ")"
            ]
          },
          "metadata": {},
          "execution_count": 43
        }
      ]
    },
    {
      "cell_type": "code",
      "source": [
        "# Create a loss function\n",
        "loss_fn = nn.BCEWithLogitsLoss()\n",
        "\n",
        "# Create a optimizer\n",
        "optimizer = torch.optim.SGD(params=model_1.parameters(),\n",
        "                            lr=0.1)"
      ],
      "metadata": {
        "id": "krpdiFuiWG-7"
      },
      "execution_count": 44,
      "outputs": []
    },
    {
      "cell_type": "code",
      "source": [
        "torch.manual_seed(42)\n",
        "torch.cuda.manual_seed(42)\n",
        "\n",
        "# Write a training and evaluation loop:\n",
        "epochs = 1000\n",
        "\n",
        "for epoch in range(epochs):\n",
        "  # 0. Training\n",
        "  model_1.train()\n",
        "\n",
        "  # 1. Forward pass (removes an extra one dimension)\n",
        "  y_logits = model_1(X_train).squeeze()\n",
        "  y_pred = torch.round(torch.sigmoid(y_logits))\n",
        "\n",
        "  # 2. Calculate the loss\n",
        "  loss = loss_fn(y_logits, y_train)\n",
        "  acc = accuracy_fn(y_true=y_train,\n",
        "                    y_pred=y_pred)\n",
        "\n",
        "  # 3. Optimizer zero grad\n",
        "  optimizer.zero_grad()\n",
        "\n",
        "  # 4. Loss backward (backpropagation)\n",
        "  loss.backward()\n",
        "\n",
        "  # 5. Optimizer step (gradient descent)\n",
        "  optimizer.step()\n",
        "\n",
        "  # 0. Testing\n",
        "  model_1.eval()\n",
        "\n",
        "  with torch.inference_mode():\n",
        "    # 1. Forward pass\n",
        "    test_logits = model_1(X_test).squeeze()\n",
        "    test_pred = torch.round(torch.sigmoid(test_logits))\n",
        "\n",
        "    # 2. Calculate the loss\n",
        "    test_loss = loss_fn(test_logits, y_test)\n",
        "    # Calculate the accuracy\n",
        "    test_acc = accuracy_fn(y_true=y_test,\n",
        "                           y_pred=test_pred)"
      ],
      "metadata": {
        "id": "nPUrLj-FLevc",
        "colab": {
          "base_uri": "https://localhost:8080/",
          "height": 443
        },
        "outputId": "84a61777-ef5b-41cf-f2ea-5526917f10b1"
      },
      "execution_count": null,
      "outputs": [
        {
          "output_type": "error",
          "ename": "NotImplementedError",
          "evalue": "Module [CircleModelV1] is missing the required \"forward\" function",
          "traceback": [
            "\u001b[0;31m---------------------------------------------------------------------------\u001b[0m",
            "\u001b[0;31mNotImplementedError\u001b[0m                       Traceback (most recent call last)",
            "\u001b[0;32m<ipython-input-41-a43a852b450b>\u001b[0m in \u001b[0;36m<cell line: 7>\u001b[0;34m()\u001b[0m\n\u001b[1;32m     10\u001b[0m \u001b[0;34m\u001b[0m\u001b[0m\n\u001b[1;32m     11\u001b[0m   \u001b[0;31m# 1. Forward pass (removes an extra one dimension)\u001b[0m\u001b[0;34m\u001b[0m\u001b[0;34m\u001b[0m\u001b[0m\n\u001b[0;32m---> 12\u001b[0;31m   \u001b[0my_logits\u001b[0m \u001b[0;34m=\u001b[0m \u001b[0mmodel_1\u001b[0m\u001b[0;34m(\u001b[0m\u001b[0mX_train\u001b[0m\u001b[0;34m)\u001b[0m\u001b[0;34m.\u001b[0m\u001b[0msqueeze\u001b[0m\u001b[0;34m(\u001b[0m\u001b[0;34m)\u001b[0m\u001b[0;34m\u001b[0m\u001b[0;34m\u001b[0m\u001b[0m\n\u001b[0m\u001b[1;32m     13\u001b[0m   \u001b[0my_pred\u001b[0m \u001b[0;34m=\u001b[0m \u001b[0mtorch\u001b[0m\u001b[0;34m.\u001b[0m\u001b[0mround\u001b[0m\u001b[0;34m(\u001b[0m\u001b[0mtorch\u001b[0m\u001b[0;34m.\u001b[0m\u001b[0msigmoid\u001b[0m\u001b[0;34m(\u001b[0m\u001b[0my_logits\u001b[0m\u001b[0;34m)\u001b[0m\u001b[0;34m)\u001b[0m\u001b[0;34m\u001b[0m\u001b[0;34m\u001b[0m\u001b[0m\n\u001b[1;32m     14\u001b[0m \u001b[0;34m\u001b[0m\u001b[0m\n",
            "\u001b[0;32m/usr/local/lib/python3.10/dist-packages/torch/nn/modules/module.py\u001b[0m in \u001b[0;36m_wrapped_call_impl\u001b[0;34m(self, *args, **kwargs)\u001b[0m\n\u001b[1;32m   1509\u001b[0m             \u001b[0;32mreturn\u001b[0m \u001b[0mself\u001b[0m\u001b[0;34m.\u001b[0m\u001b[0m_compiled_call_impl\u001b[0m\u001b[0;34m(\u001b[0m\u001b[0;34m*\u001b[0m\u001b[0margs\u001b[0m\u001b[0;34m,\u001b[0m \u001b[0;34m**\u001b[0m\u001b[0mkwargs\u001b[0m\u001b[0;34m)\u001b[0m  \u001b[0;31m# type: ignore[misc]\u001b[0m\u001b[0;34m\u001b[0m\u001b[0;34m\u001b[0m\u001b[0m\n\u001b[1;32m   1510\u001b[0m         \u001b[0;32melse\u001b[0m\u001b[0;34m:\u001b[0m\u001b[0;34m\u001b[0m\u001b[0;34m\u001b[0m\u001b[0m\n\u001b[0;32m-> 1511\u001b[0;31m             \u001b[0;32mreturn\u001b[0m \u001b[0mself\u001b[0m\u001b[0;34m.\u001b[0m\u001b[0m_call_impl\u001b[0m\u001b[0;34m(\u001b[0m\u001b[0;34m*\u001b[0m\u001b[0margs\u001b[0m\u001b[0;34m,\u001b[0m \u001b[0;34m**\u001b[0m\u001b[0mkwargs\u001b[0m\u001b[0;34m)\u001b[0m\u001b[0;34m\u001b[0m\u001b[0;34m\u001b[0m\u001b[0m\n\u001b[0m\u001b[1;32m   1512\u001b[0m \u001b[0;34m\u001b[0m\u001b[0m\n\u001b[1;32m   1513\u001b[0m     \u001b[0;32mdef\u001b[0m \u001b[0m_call_impl\u001b[0m\u001b[0;34m(\u001b[0m\u001b[0mself\u001b[0m\u001b[0;34m,\u001b[0m \u001b[0;34m*\u001b[0m\u001b[0margs\u001b[0m\u001b[0;34m,\u001b[0m \u001b[0;34m**\u001b[0m\u001b[0mkwargs\u001b[0m\u001b[0;34m)\u001b[0m\u001b[0;34m:\u001b[0m\u001b[0;34m\u001b[0m\u001b[0;34m\u001b[0m\u001b[0m\n",
            "\u001b[0;32m/usr/local/lib/python3.10/dist-packages/torch/nn/modules/module.py\u001b[0m in \u001b[0;36m_call_impl\u001b[0;34m(self, *args, **kwargs)\u001b[0m\n\u001b[1;32m   1518\u001b[0m                 \u001b[0;32mor\u001b[0m \u001b[0m_global_backward_pre_hooks\u001b[0m \u001b[0;32mor\u001b[0m \u001b[0m_global_backward_hooks\u001b[0m\u001b[0;34m\u001b[0m\u001b[0;34m\u001b[0m\u001b[0m\n\u001b[1;32m   1519\u001b[0m                 or _global_forward_hooks or _global_forward_pre_hooks):\n\u001b[0;32m-> 1520\u001b[0;31m             \u001b[0;32mreturn\u001b[0m \u001b[0mforward_call\u001b[0m\u001b[0;34m(\u001b[0m\u001b[0;34m*\u001b[0m\u001b[0margs\u001b[0m\u001b[0;34m,\u001b[0m \u001b[0;34m**\u001b[0m\u001b[0mkwargs\u001b[0m\u001b[0;34m)\u001b[0m\u001b[0;34m\u001b[0m\u001b[0;34m\u001b[0m\u001b[0m\n\u001b[0m\u001b[1;32m   1521\u001b[0m \u001b[0;34m\u001b[0m\u001b[0m\n\u001b[1;32m   1522\u001b[0m         \u001b[0;32mtry\u001b[0m\u001b[0;34m:\u001b[0m\u001b[0;34m\u001b[0m\u001b[0;34m\u001b[0m\u001b[0m\n",
            "\u001b[0;32m/usr/local/lib/python3.10/dist-packages/torch/nn/modules/module.py\u001b[0m in \u001b[0;36m_forward_unimplemented\u001b[0;34m(self, *input)\u001b[0m\n\u001b[1;32m    372\u001b[0m         \u001b[0mregistered\u001b[0m \u001b[0mhooks\u001b[0m \u001b[0;32mwhile\u001b[0m \u001b[0mthe\u001b[0m \u001b[0mlatter\u001b[0m \u001b[0msilently\u001b[0m \u001b[0mignores\u001b[0m \u001b[0mthem\u001b[0m\u001b[0;34m.\u001b[0m\u001b[0;34m\u001b[0m\u001b[0;34m\u001b[0m\u001b[0m\n\u001b[1;32m    373\u001b[0m     \"\"\"\n\u001b[0;32m--> 374\u001b[0;31m     \u001b[0;32mraise\u001b[0m \u001b[0mNotImplementedError\u001b[0m\u001b[0;34m(\u001b[0m\u001b[0;34mf\"Module [{type(self).__name__}] is missing the required \\\"forward\\\" function\"\u001b[0m\u001b[0;34m)\u001b[0m\u001b[0;34m\u001b[0m\u001b[0;34m\u001b[0m\u001b[0m\n\u001b[0m\u001b[1;32m    375\u001b[0m \u001b[0;34m\u001b[0m\u001b[0m\n\u001b[1;32m    376\u001b[0m \u001b[0;34m\u001b[0m\u001b[0m\n",
            "\u001b[0;31mNotImplementedError\u001b[0m: Module [CircleModelV1] is missing the required \"forward\" function"
          ]
        }
      ]
    },
    {
      "cell_type": "code",
      "source": [],
      "metadata": {
        "id": "pbq2JL_bLey2"
      },
      "execution_count": null,
      "outputs": []
    },
    {
      "cell_type": "code",
      "source": [],
      "metadata": {
        "id": "C2h01AlP_PBr"
      },
      "execution_count": null,
      "outputs": []
    },
    {
      "cell_type": "code",
      "source": [],
      "metadata": {
        "id": "NDmKUwJCDdr1"
      },
      "execution_count": null,
      "outputs": []
    },
    {
      "cell_type": "code",
      "source": [],
      "metadata": {
        "id": "U-xYsUz6Dd_y"
      },
      "execution_count": null,
      "outputs": []
    },
    {
      "cell_type": "code",
      "source": [],
      "metadata": {
        "id": "3pyLzTt6DeDN"
      },
      "execution_count": null,
      "outputs": []
    }
  ]
}