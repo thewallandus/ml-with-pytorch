{
  "nbformat": 4,
  "nbformat_minor": 0,
  "metadata": {
    "colab": {
      "provenance": [],
      "authorship_tag": "ABX9TyMuwRSaz6iXwl0Ibrsa4np/",
      "include_colab_link": true
    },
    "kernelspec": {
      "name": "python3",
      "display_name": "Python 3"
    },
    "language_info": {
      "name": "python"
    }
  },
  "cells": [
    {
      "cell_type": "markdown",
      "metadata": {
        "id": "view-in-github",
        "colab_type": "text"
      },
      "source": [
        "<a href=\"https://colab.research.google.com/github/thewallandus/ml-with-pytorch/blob/main/04_pytorch_custom_datasets_video.ipynb\" target=\"_parent\"><img src=\"https://colab.research.google.com/assets/colab-badge.svg\" alt=\"Open In Colab\"/></a>"
      ]
    },
    {
      "cell_type": "markdown",
      "source": [
        "# 04 Custom Datasets Video Notebook"
      ],
      "metadata": {
        "id": "Lnnq56wLEmaI"
      }
    },
    {
      "cell_type": "code",
      "source": [],
      "metadata": {
        "id": "c8AD7Jx1EsiJ"
      },
      "execution_count": null,
      "outputs": []
    },
    {
      "cell_type": "code",
      "source": [],
      "metadata": {
        "id": "TwcfvRq9Eye0"
      },
      "execution_count": null,
      "outputs": []
    },
    {
      "cell_type": "code",
      "source": [],
      "metadata": {
        "id": "AmdUFI8pEsyu"
      },
      "execution_count": null,
      "outputs": []
    }
  ]
}